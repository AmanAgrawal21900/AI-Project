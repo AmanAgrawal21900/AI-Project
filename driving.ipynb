{
  "nbformat": 4,
  "nbformat_minor": 0,
  "metadata": {
    "colab": {
      "name": "driving.ipynb",
      "provenance": [],
      "authorship_tag": "ABX9TyPhYzijpY16Uo+OCfRQ6i8j",
      "include_colab_link": true
    },
    "kernelspec": {
      "name": "python3",
      "display_name": "Python 3"
    },
    "language_info": {
      "name": "python"
    }
  },
  "cells": [
    {
      "cell_type": "markdown",
      "metadata": {
        "id": "view-in-github",
        "colab_type": "text"
      },
      "source": [
        "<a href=\"https://colab.research.google.com/github/AmanAgrawal21900/AI-Project/blob/main/driving.ipynb\" target=\"_parent\"><img src=\"https://colab.research.google.com/assets/colab-badge.svg\" alt=\"Open In Colab\"/></a>"
      ]
    },
    {
      "cell_type": "code",
      "execution_count": null,
      "metadata": {
        "id": "bhv_QJ3tUY5P"
      },
      "outputs": [],
      "source": [
        "# import the libaries\n",
        "\n",
        "import numpy as np\n",
        "import cv2,glob,os\n",
        "import matplotlib.image as mpimg\n",
        "from scipy.misc import imresize\n",
        "from moviepy.editor import VideoFileClip\n",
        "from IPython.display import HTML\n",
        "from keras.models import model_from_json\n",
        "import matplotlib.pyplot as plt"
      ]
    },
    {
      "cell_type": "code",
      "source": [
        "!pip install scipy==1.1.0"
      ],
      "metadata": {
        "id": "sdgOiYpJWMBD",
        "outputId": "57f89370-8023-4900-bc16-556946036ec7",
        "colab": {
          "base_uri": "https://localhost:8080/",
          "height": 383
        }
      },
      "execution_count": null,
      "outputs": [
        {
          "output_type": "stream",
          "name": "stdout",
          "text": [
            "Collecting scipy==1.1.0\n",
            "  Downloading scipy-1.1.0-cp37-cp37m-manylinux1_x86_64.whl (31.2 MB)\n",
            "\u001b[K     |████████████████████████████████| 31.2 MB 2.0 MB/s \n",
            "\u001b[?25hRequirement already satisfied: numpy>=1.8.2 in /usr/local/lib/python3.7/dist-packages (from scipy==1.1.0) (1.21.5)\n",
            "Installing collected packages: scipy\n",
            "  Attempting uninstall: scipy\n",
            "    Found existing installation: scipy 1.4.1\n",
            "    Uninstalling scipy-1.4.1:\n",
            "      Successfully uninstalled scipy-1.4.1\n",
            "\u001b[31mERROR: pip's dependency resolver does not currently take into account all the packages that are installed. This behaviour is the source of the following dependency conflicts.\n",
            "pymc3 3.11.4 requires scipy>=1.2.0, but you have scipy 1.1.0 which is incompatible.\n",
            "plotnine 0.6.0 requires scipy>=1.2.0, but you have scipy 1.1.0 which is incompatible.\n",
            "jax 0.3.1 requires scipy>=1.2.1, but you have scipy 1.1.0 which is incompatible.\n",
            "albumentations 0.1.12 requires imgaug<0.2.7,>=0.2.5, but you have imgaug 0.2.9 which is incompatible.\u001b[0m\n",
            "Successfully installed scipy-1.1.0\n"
          ]
        },
        {
          "output_type": "display_data",
          "data": {
            "application/vnd.colab-display-data+json": {
              "pip_warning": {
                "packages": [
                  "scipy"
                ]
              }
            }
          },
          "metadata": {}
        }
      ]
    },
    {
      "cell_type": "markdown",
      "source": [
        "scipy.misc alternative !pip install scipy==1.1.0"
      ],
      "metadata": {
        "id": "KYKiv0T9VtQU"
      }
    },
    {
      "cell_type": "code",
      "source": [
        "# plot the testing image\n",
        "\n",
        "# show the images \n",
        "def show_images(images, cmap=None):\n",
        "    cols = 2\n",
        "    rows = (len(images)+1)//cols\n",
        "    \n",
        "    plt.figure(figsize=(10, 11))\n",
        "    for i, image in enumerate(images):\n",
        "        plt.subplot(rows, cols, i+1)\n",
        "        # use gray scale color map if there is only one channel\n",
        "        cmap = 'gray' if len(image.shape)==2 else cmap\n",
        "        plt.imshow(image, cmap=cmap)\n",
        "        plt.xticks([])\n",
        "        plt.yticks([])\n",
        "    plt.tight_layout(pad=0, h_pad=0, w_pad=0)\n",
        "    plt.show()\n",
        "\n",
        "test_images = [plt.imread(path) for path in glob.glob('test_images/*.jpg')]\n",
        "\n",
        "show_images(test_images)"
      ],
      "metadata": {
        "id": "VvvnqVVMUgC9"
      },
      "execution_count": null,
      "outputs": []
    },
    {
      "cell_type": "code",
      "source": [
        "# Load pretrained model\n",
        "\n",
        "# load the model json file \n",
        "json_file = open('model.json', 'r')\n",
        "json_model = json_file.read()\n",
        "json_file.close()\n",
        "\n",
        "# load the model from the json\n",
        "model = model_from_json(json_model)\n",
        "# load the wieghts of the model\n",
        "model.load_weights('model.h5')"
      ],
      "metadata": {
        "id": "mp9Sb4GCUhw2"
      },
      "execution_count": null,
      "outputs": []
    },
    {
      "cell_type": "code",
      "source": [
        "# create a class Lane \n",
        "\n",
        "# Class to average lanes with\n",
        "class Lanes():\n",
        "    def __init__(self):\n",
        "        self.recent_fit = []\n",
        "        self.avg_fit = []"
      ],
      "metadata": {
        "id": "Ij6kOs1gUkLy"
      },
      "execution_count": null,
      "outputs": []
    },
    {
      "cell_type": "code",
      "source": [
        "# resize the image and predict the lane to be drawn from the model in G color\n",
        "\n",
        "def road_lines_image(image):\n",
        "    \n",
        "    img_arr = cv2.imread(image)\n",
        "    actual_image = imresize(img_arr, (720, 1280, 3))\n",
        "\n",
        "    # Get image ready for feeding into model\n",
        "    img = mpimg.imread(image)\n",
        "    small_img_2 = imresize(img, (80, 160, 3))\n",
        "    small_img_1= np.array(small_img_2)\n",
        "    small_img = small_img_1[None, :, :, :]\n",
        "\n",
        "    # Make prediction with neural network (un-normalize value by multiplying by 255)\n",
        "    prediction = model.predict(small_img)[0] * 255\n",
        "\n",
        "    # Add lane prediction to list for averaging\n",
        "    lanes.recent_fit.append(prediction)\n",
        "    # Only using last five for average\n",
        "    if len(lanes.recent_fit) > 5:\n",
        "        lanes.recent_fit = lanes.recent_fit[1:]\n",
        "\n",
        "    # Calculate average detection\n",
        "    lanes.avg_fit = np.mean(np.array([i for i in lanes.recent_fit]), axis = 0)\n",
        "\n",
        "    # Generate fake R & B color dimensions, stack with G\n",
        "    blanks = np.zeros_like(lanes.avg_fit).astype(np.uint8)\n",
        "    lane_drawn = np.dstack((blanks, lanes.avg_fit, blanks))\n",
        "\n",
        "    # Re-size to match the original image\n",
        "    lane_image = imresize(lane_drawn, (720, 1280, 3))\n",
        "\n",
        "    # Merge the lane drawing onto the original image\n",
        "    result = cv2.addWeighted(actual_image, 1, lane_image, 1, 0)\n",
        "\n",
        "    return result"
      ],
      "metadata": {
        "id": "drReXTBqU1G0"
      },
      "execution_count": null,
      "outputs": []
    },
    {
      "cell_type": "code",
      "source": [
        "# predict the lane detector \n",
        "\n",
        "#create a lanes object\n",
        "lanes = Lanes()\n",
        "\n",
        "for path in glob.glob('test_images/*.jpg'):\n",
        "    res_img = road_lines_image(path)\n",
        "    names = [os.path.basename(x) for x in glob.glob(path)]   \n",
        "    out_path = 'test_predict/'+names[0]\n",
        "    # save the result in a image\n",
        "    cv2.imwrite(out_path,res_img)\n",
        "   "
      ],
      "metadata": {
        "id": "Z_xUN4wNU3TX"
      },
      "execution_count": null,
      "outputs": []
    },
    {
      "cell_type": "code",
      "source": [
        "# plot the predicted result\n",
        "\n",
        "predicted_images = [plt.imread(path) for path in glob.glob('test_predict/*.jpg')]\n",
        "\n",
        "show_images(predicted_images)"
      ],
      "metadata": {
        "id": "p7j_arpTU5Qh"
      },
      "execution_count": null,
      "outputs": []
    }
  ]
}